{
 "cells": [
  {
   "cell_type": "code",
   "execution_count": 1,
   "id": "e116eb54",
   "metadata": {},
   "outputs": [
    {
     "name": "stdout",
     "output_type": "stream",
     "text": [
      "Collecting owlready2\n",
      "  Downloading owlready2-0.48.tar.gz (27.3 MB)\n",
      "\u001b[2K     \u001b[90m━━━━━━━━━━━━━━━━━━━━━━━━━━━━━━━━━━━━━━━━\u001b[0m \u001b[32m27.3/27.3 MB\u001b[0m \u001b[31m1.8 MB/s\u001b[0m eta \u001b[36m0:00:00\u001b[0m00:01\u001b[0m00:01\u001b[0m\n",
      "\u001b[?25h  Installing build dependencies ... \u001b[?25ldone\n",
      "\u001b[?25h  Getting requirements to build wheel ... \u001b[?25ldone\n",
      "\u001b[?25h  Preparing metadata (pyproject.toml) ... \u001b[?25ldone\n",
      "\u001b[?25hBuilding wheels for collected packages: owlready2\n",
      "  Building wheel for owlready2 (pyproject.toml) ... \u001b[?25ldone\n",
      "\u001b[?25h  Created wheel for owlready2: filename=owlready2-0.48-cp310-cp310-linux_x86_64.whl size=24043941 sha256=3ed462fe65957a7358f59e53ff35b624e280ff2eda3e4d9508554c360a786aca\n",
      "  Stored in directory: /home/kameshfdo/.cache/pip/wheels/ac/33/59/ba1de849391865c930c03f07ec5104d4ed7e0b878a91aa0bc1\n",
      "Successfully built owlready2\n",
      "Installing collected packages: owlready2\n",
      "Successfully installed owlready2-0.48\n",
      "Note: you may need to restart the kernel to use updated packages.\n"
     ]
    }
   ],
   "source": [
    "pip install owlready2"
   ]
  },
  {
   "cell_type": "code",
   "execution_count": 3,
   "id": "43f7440d",
   "metadata": {},
   "outputs": [],
   "source": [
    "from owlready2 import *"
   ]
  },
  {
   "cell_type": "code",
   "execution_count": 4,
   "id": "a04969e8",
   "metadata": {},
   "outputs": [],
   "source": [
    "# Use your base IRI here\n",
    "onto = get_ontology(\"/home/kameshfdo/fake news detection in sinhala/my.owl\").load()"
   ]
  },
  {
   "cell_type": "code",
   "execution_count": null,
   "id": "c9660fee",
   "metadata": {},
   "outputs": [],
   "source": []
  }
 ],
 "metadata": {
  "kernelspec": {
   "display_name": "pyenv",
   "language": "python",
   "name": "python3"
  },
  "language_info": {
   "codemirror_mode": {
    "name": "ipython",
    "version": 3
   },
   "file_extension": ".py",
   "mimetype": "text/x-python",
   "name": "python",
   "nbconvert_exporter": "python",
   "pygments_lexer": "ipython3",
   "version": "3.10.12"
  }
 },
 "nbformat": 4,
 "nbformat_minor": 5
}
